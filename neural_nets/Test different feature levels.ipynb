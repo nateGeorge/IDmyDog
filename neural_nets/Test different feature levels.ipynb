{
 "cells": [
  {
   "cell_type": "code",
   "execution_count": 19,
   "metadata": {
    "collapsed": false
   },
   "outputs": [],
   "source": [
    "from keras.applications.vgg19 import VGG19\n",
    "from keras.preprocessing import image\n",
    "from keras.applications.vgg19 import preprocess_input\n",
    "from keras.models import Model\n",
    "import json\n",
    "import cPickle as pk\n",
    "import os\n",
    "import numpy as np\n",
    "import pandas as pd\n",
    "from time import time\n",
    "import matplotlib.pyplot as plt\n",
    "%matplotlib inline"
   ]
  },
  {
   "cell_type": "code",
   "execution_count": 5,
   "metadata": {
    "collapsed": true
   },
   "outputs": [],
   "source": [
    "def load_everything():\n",
    "    # load configuration\n",
    "    with open('../config.json', 'rb') as f:\n",
    "        config = json.load(f)\n",
    "\n",
    "    mainImPath = config['image_dir']\n",
    "    pDir = config['pickle_dir']\n",
    "\n",
    "    bb = pk.load(open(pDir + 'pDogs-bounding-boxes-clean.pd.pk', 'rb'))\n",
    "    bb.dropna(inplace=True)\n",
    "\n",
    "    breeds = list(sorted(bb.breed.unique().tolist()))\n",
    "\n",
    "    return breeds, bb, mainImPath\n",
    "\n",
    "def create_model(output_layer='block4_pool'):\n",
    "    base_model = VGG19(weights='imagenet')\n",
    "    model = Model(input=base_model.input, output=base_model.get_layer(output_layer).output)\n",
    "    return model\n",
    "\n",
    "def extract_feats(img_path):\n",
    "        try:\n",
    "            img = image.load_img(img_path, target_size=(224, 224))\n",
    "        except IOError:\n",
    "            print 'couldn\\'t load file'\n",
    "            return None\n",
    "\n",
    "        x = image.img_to_array(img)\n",
    "        x = np.expand_dims(x, axis=0)\n",
    "        x = preprocess_input(x)\n",
    "\n",
    "        block4_pool_features = model.predict(x)\n",
    "        return block4_pool_features\n",
    "\n",
    "def extract_all_feats(timing=True):\n",
    "    all_feats = None\n",
    "    for b in breeds:\n",
    "        print 'on breed:', b\n",
    "        imDir = mainImPath + breeds[0] + '/'\n",
    "        ims = os.listdir(imDir)\n",
    "        for im in ims:\n",
    "            start = time()\n",
    "            print 'on image:', im\n",
    "            b4 = extract_feats(imDir + im)\n",
    "            if b4 is None:\n",
    "                continue\n",
    "\n",
    "            if all_feats is None:\n",
    "                files = [im]\n",
    "                all_feats = b4\n",
    "            else:\n",
    "                files.append(im)\n",
    "                all_feats = np.c_[all_feats, all_feats]\n",
    "\n",
    "            if timing:\n",
    "                print 'took', time() - start, 'seconds'\n",
    "\n",
    "    return files, all_feats\n",
    "\n",
    "def test(timing=True):\n",
    "    start = time()\n",
    "    testImDir = mainImPath + breeds[0] + '/'\n",
    "    testIms = os.listdir(testImDir)\n",
    "    print 'extracting features for', breeds[0]\n",
    "    print 'file:', testIms[0]\n",
    "    b4 = extract_feats(testImDir + testIms[0])\n",
    "    if timing:\n",
    "        runtime = time() - start\n",
    "        print 'took', runtime, 'seconds'\n",
    "\n",
    "    return b4, runtime"
   ]
  },
  {
   "cell_type": "code",
   "execution_count": 6,
   "metadata": {
    "collapsed": true
   },
   "outputs": [],
   "source": [
    "breeds, bb, mainImPath = load_everything()"
   ]
  },
  {
   "cell_type": "code",
   "execution_count": 7,
   "metadata": {
    "collapsed": true
   },
   "outputs": [],
   "source": [
    "base_model = VGG19(weights='imagenet')"
   ]
  },
  {
   "cell_type": "markdown",
   "metadata": {},
   "source": [
    "# Here's the layers we can use as intermediate outputs:"
   ]
  },
  {
   "cell_type": "code",
   "execution_count": 16,
   "metadata": {
    "collapsed": false
   },
   "outputs": [
    {
     "name": "stdout",
     "output_type": "stream",
     "text": [
      "input_1\n",
      "block1_conv1\n",
      "block1_conv2\n",
      "block1_pool\n",
      "block2_conv1\n",
      "block2_conv2\n",
      "block2_pool\n",
      "block3_conv1\n",
      "block3_conv2\n",
      "block3_conv3\n",
      "block3_conv4\n",
      "block3_pool\n",
      "block4_conv1\n",
      "block4_conv2\n",
      "block4_conv3\n",
      "block4_conv4\n",
      "block4_pool\n",
      "block5_conv1\n",
      "block5_conv2\n",
      "block5_conv3\n",
      "block5_conv4\n",
      "block5_pool\n",
      "flatten\n",
      "fc1\n",
      "fc2\n",
      "predictions\n"
     ]
    }
   ],
   "source": [
    "for i in base_model.get_config()['layers']:\n",
    "    print i['name']"
   ]
  },
  {
   "cell_type": "code",
   "execution_count": 15,
   "metadata": {
    "collapsed": false
   },
   "outputs": [
    {
     "data": {
      "text/plain": [
       "{'class_name': 'InputLayer',\n",
       " 'config': {'batch_input_shape': (None, 3, 224, 224),\n",
       "  'input_dtype': 'float32',\n",
       "  'name': 'input_1',\n",
       "  'sparse': False},\n",
       " 'inbound_nodes': [],\n",
       " 'name': 'input_1'}"
      ]
     },
     "execution_count": 15,
     "metadata": {},
     "output_type": "execute_result"
    }
   ],
   "source": [
    "base_model.get_config()['layers'][0]"
   ]
  },
  {
   "cell_type": "code",
   "execution_count": 17,
   "metadata": {
    "collapsed": true
   },
   "outputs": [],
   "source": [
    "model = create_model() # creates VGG19 model with block4_pool_features out"
   ]
  },
  {
   "cell_type": "code",
   "execution_count": 18,
   "metadata": {
    "collapsed": false
   },
   "outputs": [
    {
     "name": "stdout",
     "output_type": "stream",
     "text": [
      "extracting features for Affenpinscher\n",
      "file: Affenpinscher3-2.jpeg\n",
      "took 6.73015594482 seconds\n"
     ]
    }
   ],
   "source": [
    "testFeat, runtime = test()"
   ]
  },
  {
   "cell_type": "code",
   "execution_count": 27,
   "metadata": {
    "collapsed": false
   },
   "outputs": [
    {
     "data": {
      "text/plain": [
       "<matplotlib.image.AxesImage at 0x7fde59ed00d0>"
      ]
     },
     "execution_count": 27,
     "metadata": {},
     "output_type": "execute_result"
    },
    {
     "data": {
      "image/png": "[encoded data removed]",
      "text/plain": [
       "<matplotlib.figure.Figure at 0x7fde59fcdd10>"
      ]
     },
     "metadata": {},
     "output_type": "display_data"
    }
   ],
   "source": [
    "plt.imshow(testFeat[0][0])"
   ]
  },
  {
   "cell_type": "code",
   "execution_count": null,
   "metadata": {
    "collapsed": true
   },
   "outputs": [],
   "source": []
  }
 ],
 "metadata": {
  "kernelspec": {
   "display_name": "Python 2",
   "language": "python",
   "name": "python2"
  },
  "language_info": {
   "codemirror_mode": {
    "name": "ipython",
    "version": 2
   },
   "file_extension": ".py",
   "mimetype": "text/x-python",
   "name": "python",
   "nbconvert_exporter": "python",
   "pygments_lexer": "ipython2",
   "version": "2.7.12"
  }
 },
 "nbformat": 4,
 "nbformat_minor": 1
}
