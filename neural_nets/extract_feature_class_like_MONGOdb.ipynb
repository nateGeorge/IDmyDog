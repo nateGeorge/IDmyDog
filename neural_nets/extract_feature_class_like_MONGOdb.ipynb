{
 "cells": [
  {
   "cell_type": "code",
   "execution_count": 64,
   "metadata": {
    "collapsed": false
   },
   "outputs": [],
   "source": [
    "from keras.applications.vgg19 import VGG19\n",
    "from keras.preprocessing import image\n",
    "from keras.applications.vgg19 import preprocess_input\n",
    "from keras.models import Model\n",
    "import json\n",
    "import cPickle as pk\n",
    "import os\n",
    "import numpy as np\n",
    "import pandas as pd\n",
    "from time import time\n",
    "import matplotlib.pyplot as plt\n",
    "import cv2\n",
    "import re\n",
    "import sys\n",
    "%matplotlib inline"
   ]
  },
  {
   "cell_type": "code",
   "execution_count": 100,
   "metadata": {
    "collapsed": false
   },
   "outputs": [],
   "source": [
    "def load_everything():\n",
    "    # load configuration\n",
    "    with open('../config.json', 'rb') as f:\n",
    "        config = json.load(f)\n",
    "\n",
    "    mainImPath = config['image_dir']\n",
    "    pDir = config['pickle_dir']\n",
    "\n",
    "    bb = pk.load(open(pDir + 'pDogs-bounding-boxes-clean.pd.pk', 'rb'))\n",
    "    bb.dropna(inplace=True)\n",
    "    bb.path = bb.path.apply(lambda x: re.sub('scrape-ims', 'scrape_ims', x))\n",
    "\n",
    "    breeds = list(sorted(bb.breed.unique().tolist()))\n",
    "\n",
    "    return breeds, bb, mainImPath\n",
    "\n",
    "def create_model(output_layer='block4_pool'):\n",
    "    base_model = VGG19(weights='imagenet')\n",
    "    model = Model(input=base_model.input, output=base_model.get_layer(output_layer).output)\n",
    "    return model\n",
    "\n",
    "def extract_feats(img_path):\n",
    "        try:\n",
    "            img = image.load_img(img_path, target_size=(224, 224))\n",
    "        except IOError:\n",
    "            print 'couldn\\'t load file'\n",
    "            return None\n",
    "\n",
    "        x = image.img_to_array(img)\n",
    "        x = np.expand_dims(x, axis=0)\n",
    "        x = preprocess_input(x)\n",
    "\n",
    "        block4_pool_features = model.predict(x)\n",
    "        return block4_pool_features\n",
    "\n",
    "def extract_all_feats(timing=True):\n",
    "    all_feats = None\n",
    "    for b in breeds:\n",
    "        print 'on breed:', b\n",
    "        imDir = mainImPath + breeds[0] + '/'\n",
    "        ims = os.listdir(imDir)\n",
    "        for im in ims:\n",
    "            start = time()\n",
    "            print 'on image:', im\n",
    "            b4 = extract_feats(imDir + im)\n",
    "            if b4 is None:\n",
    "                continue\n",
    "\n",
    "            if all_feats is None:\n",
    "                files = [im]\n",
    "                all_feats = b4\n",
    "            else:\n",
    "                files.append(im)\n",
    "                all_feats = np.c_[all_feats, all_feats]\n",
    "\n",
    "            if timing:\n",
    "                print 'took', time() - start, 'seconds'\n",
    "\n",
    "    return files, all_feats\n",
    "\n",
    "def test(output_layer='block4_pool', timing=True):\n",
    "    start = time()\n",
    "    testImDir = mainImPath + breeds[0] + '/'\n",
    "    testIms = os.listdir(testImDir)\n",
    "    print 'extracting features for', breeds[0]\n",
    "    print 'file:', testIms[0]\n",
    "    b4 = extract_feats(testImDir + testIms[0])\n",
    "    if timing:\n",
    "        runtime = time() - start\n",
    "        print 'took', runtime, 'seconds'\n",
    "\n",
    "    return b4, runtime, testImDir + testIms[0]\n",
    "\n",
    "class featureExtractor(object):\n",
    "    def __init__(self, output_layer='block4_pool', imstack=None):\n",
    "        '''\n",
    "        take an output_layer (from below) and a list of images (imstack)\n",
    "        output layer options are:\n",
    "        block1_conv1\n",
    "        block1_conv2\n",
    "        block1_pool\n",
    "        block2_conv1\n",
    "        block2_conv2\n",
    "        block2_pool\n",
    "        block3_conv1\n",
    "        block3_conv2\n",
    "        block3_conv3\n",
    "        block3_conv4\n",
    "        block3_pool\n",
    "        block4_conv1\n",
    "        block4_conv2\n",
    "        block4_conv3\n",
    "        block4_conv4\n",
    "        block4_pool\n",
    "        block5_conv1\n",
    "        block5_conv2\n",
    "        block5_conv3\n",
    "        block5_conv4\n",
    "        block5_pool\n",
    "        fc1\n",
    "        fc2\n",
    "        '''\n",
    "        self.output_layer = output_layer\n",
    "        self.imstack = imstack\n",
    "        self.model = None\n",
    "        self.imcount = 0 # counter for image stack\n",
    "    \n",
    "    def incr_img(self):\n",
    "        self.imcount += 1\n",
    "        if self.imcount > len(self.imstack):\n",
    "            self.imcount = 0\n",
    "        \n",
    "    def set_output_layer(self, output_layer):\n",
    "        self.output_layer = output_layer\n",
    "        self.create_model()\n",
    "        \n",
    "    def extract10(self):\n",
    "        '''\n",
    "        extracts features from the next 10 images in the stack\n",
    "        '''\n",
    "        if self.model is None:\n",
    "            model = self.create_model()\n",
    "        \n",
    "        all_feats = None\n",
    "        count10 = 0\n",
    "        while True:\n",
    "            b4, im = self.extractOne()\n",
    "            if b4 is None:\n",
    "                continue\n",
    "\n",
    "            if all_feats is None:\n",
    "                files = [im]\n",
    "                all_feats = b4\n",
    "            else:\n",
    "                files.append(im)\n",
    "                all_feats = np.c_[all_feats, all_feats]\n",
    "            \n",
    "            count10 += 1\n",
    "            if count10 == 10:\n",
    "                break\n",
    "        \n",
    "        return files, all_feats\n",
    "        \n",
    "    def extractOne(self, timing=True):\n",
    "        '''\n",
    "        extracts features from one image (next in stack)\n",
    "        \n",
    "        returns features array\n",
    "        '''\n",
    "        if self.model is None:\n",
    "            model = self.create_model()\n",
    "        \n",
    "        img_path = self.imstack[self.imcount]\n",
    "        self.incr_img()\n",
    "        start = time()\n",
    "        print 'on image:', img_path\n",
    "        try:\n",
    "            img = image.load_img(img_path, target_size=(224, 224))\n",
    "        except IOError:\n",
    "            print 'couldn\\'t load file'\n",
    "            return None, None\n",
    "\n",
    "        x = image.img_to_array(img)\n",
    "        x = np.expand_dims(x, axis=0)\n",
    "        x = preprocess_input(x)\n",
    "\n",
    "        features = self.model.predict(x)\n",
    "        if timing:\n",
    "            print 'took', time() - start, 'seconds'\n",
    "\n",
    "        return features, img_path\n",
    "    \n",
    "    def create_model(self):\n",
    "        base_model = VGG19(weights='imagenet')\n",
    "        model = Model(input=base_model.input, output=base_model.get_layer(self.output_layer).output)\n",
    "        self.model = model\n",
    "        return model"
   ]
  },
  {
   "cell_type": "code",
   "execution_count": 101,
   "metadata": {
    "collapsed": false
   },
   "outputs": [
    {
     "data": {
      "text/html": [
       "<div>\n",
       "<table border=\"1\" class=\"dataframe\">\n",
       "  <thead>\n",
       "    <tr style=\"text-align: right;\">\n",
       "      <th></th>\n",
       "      <th>breed</th>\n",
       "      <th>path</th>\n",
       "      <th>bodies</th>\n",
       "      <th>heads</th>\n",
       "    </tr>\n",
       "  </thead>\n",
       "  <tbody>\n",
       "    <tr>\n",
       "      <th>1</th>\n",
       "      <td>Affenpinscher</td>\n",
       "      <td>/media/nate/Windows/github/IDmyDog/scrape_ims/...</td>\n",
       "      <td>[[(221, 10), (25, 195)]]</td>\n",
       "      <td>[[(212, 13), (139, 83)]]</td>\n",
       "    </tr>\n",
       "    <tr>\n",
       "      <th>4</th>\n",
       "      <td>Affenpinscher</td>\n",
       "      <td>/media/nate/Windows/github/IDmyDog/scrape_ims/...</td>\n",
       "      <td>[[(524, 45), (96, 417)]]</td>\n",
       "      <td>[[(513, 235), (354, 54)]]</td>\n",
       "    </tr>\n",
       "    <tr>\n",
       "      <th>6</th>\n",
       "      <td>Affenpinscher</td>\n",
       "      <td>/media/nate/Windows/github/IDmyDog/scrape_ims/...</td>\n",
       "      <td>[[(101, 13), (557, 372)]]</td>\n",
       "      <td>[[(340, 184), (115, 20)]]</td>\n",
       "    </tr>\n",
       "    <tr>\n",
       "      <th>9</th>\n",
       "      <td>Affenpinscher</td>\n",
       "      <td>/media/nate/Windows/github/IDmyDog/scrape_ims/...</td>\n",
       "      <td>[[(350, 20), (33, 436)]]</td>\n",
       "      <td>[[(322, 272), (138, 17)]]</td>\n",
       "    </tr>\n",
       "    <tr>\n",
       "      <th>24</th>\n",
       "      <td>Affenpinscher</td>\n",
       "      <td>/media/nate/Windows/github/IDmyDog/scrape_ims/...</td>\n",
       "      <td>[[(321, 42), (76, 507)]]</td>\n",
       "      <td>[[(98, 129), (309, 350)]]</td>\n",
       "    </tr>\n",
       "  </tbody>\n",
       "</table>\n",
       "</div>"
      ],
      "text/plain": [
       "            breed                                               path  \\\n",
       "1   Affenpinscher  /media/nate/Windows/github/IDmyDog/scrape_ims/...   \n",
       "4   Affenpinscher  /media/nate/Windows/github/IDmyDog/scrape_ims/...   \n",
       "6   Affenpinscher  /media/nate/Windows/github/IDmyDog/scrape_ims/...   \n",
       "9   Affenpinscher  /media/nate/Windows/github/IDmyDog/scrape_ims/...   \n",
       "24  Affenpinscher  /media/nate/Windows/github/IDmyDog/scrape_ims/...   \n",
       "\n",
       "                       bodies                      heads  \n",
       "1    [[(221, 10), (25, 195)]]   [[(212, 13), (139, 83)]]  \n",
       "4    [[(524, 45), (96, 417)]]  [[(513, 235), (354, 54)]]  \n",
       "6   [[(101, 13), (557, 372)]]  [[(340, 184), (115, 20)]]  \n",
       "9    [[(350, 20), (33, 436)]]  [[(322, 272), (138, 17)]]  \n",
       "24   [[(321, 42), (76, 507)]]  [[(98, 129), (309, 350)]]  "
      ]
     },
     "execution_count": 101,
     "metadata": {},
     "output_type": "execute_result"
    }
   ],
   "source": [
    "breeds, bb, mainImPath = load_everything()\n",
    "bb.head()"
   ]
  },
  {
   "cell_type": "code",
   "execution_count": 102,
   "metadata": {
    "collapsed": true
   },
   "outputs": [],
   "source": [
    "imstack=bb.path.tolist()"
   ]
  },
  {
   "cell_type": "code",
   "execution_count": 103,
   "metadata": {
    "collapsed": false
   },
   "outputs": [
    {
     "data": {
      "text/plain": [
       "u'/media/nate/Windows/github/IDmyDog/scrape_ims/images/Affenpinscher/Affenpinscher1-2.jpeg'"
      ]
     },
     "execution_count": 103,
     "metadata": {},
     "output_type": "execute_result"
    }
   ],
   "source": [
    "imstack[1]"
   ]
  },
  {
   "cell_type": "code",
   "execution_count": 104,
   "metadata": {
    "collapsed": false
   },
   "outputs": [],
   "source": [
    "im = cv2.imread(imstack[1])"
   ]
  },
  {
   "cell_type": "code",
   "execution_count": 105,
   "metadata": {
    "collapsed": true
   },
   "outputs": [],
   "source": [
    "fe = featureExtractor(imstack=bb.path.tolist())"
   ]
  },
  {
   "cell_type": "code",
   "execution_count": 113,
   "metadata": {
    "collapsed": false
   },
   "outputs": [
    {
     "name": "stdout",
     "output_type": "stream",
     "text": [
      "on image: /media/nate/Windows/github/IDmyDog/scrape_ims/images/Affenpinscher/Affenpinscher1-2.jpeg\n",
      "took 4.87424182892 seconds\n"
     ]
    }
   ],
   "source": [
    "test_feat, filepath = fe.extractOne()"
   ]
  },
  {
   "cell_type": "code",
   "execution_count": 114,
   "metadata": {
    "collapsed": false
   },
   "outputs": [],
   "source": [
    "img = image.load_img(imstack[0], target_size=(224, 224))"
   ]
  },
  {
   "cell_type": "code",
   "execution_count": 116,
   "metadata": {
    "collapsed": false
   },
   "outputs": [
    {
     "data": {
      "image/png": "[encoded data removed]",
      "text/plain": [
       "<matplotlib.figure.Figure at 0x7fe0da289e50>"
      ]
     },
     "metadata": {},
     "output_type": "display_data"
    }
   ],
   "source": [
    "plt.imshow(test_feat[0][0])\n",
    "ax = plt.gca()\n",
    "ax.set_xticks([])\n",
    "ax.set_yticks([])\n",
    "p = ax.axis('off')"
   ]
  },
  {
   "cell_type": "code",
   "execution_count": 117,
   "metadata": {
    "collapsed": false
   },
   "outputs": [
    {
     "name": "stdout",
     "output_type": "stream",
     "text": [
      "on image: /media/nate/Windows/github/IDmyDog/scrape_ims/images/Affenpinscher/Affenpinscher1-4.\n",
      "took 5.20263004303 seconds\n",
      "on image: /media/nate/Windows/github/IDmyDog/scrape_ims/images/Affenpinscher/Affenpinscher1-7.jpeg\n",
      "took 4.91868591309 seconds\n",
      "on image: /media/nate/Windows/github/IDmyDog/scrape_ims/images/Affenpinscher/Affenpinscher3-3.jpeg\n",
      "took 4.87297511101 seconds\n",
      "on image: /media/nate/Windows/github/IDmyDog/scrape_ims/images/Affenpinscher/Affenpinscher3-7.jpeg\n",
      "took 4.82712197304 seconds\n",
      "on image: /media/nate/Windows/github/IDmyDog/scrape_ims/images/Afghan Hound/6bd6b966cc82eb0a9b97ca39bb04d679c95370ec.jpg\n",
      "took 4.82378005981 seconds\n",
      "on image: /media/nate/Windows/github/IDmyDog/scrape_ims/images/Afghan Hound/Afghan Hound1-0.jpeg\n",
      "took 4.83662486076 seconds\n",
      "on image: /media/nate/Windows/github/IDmyDog/scrape_ims/images/Afghan Hound/Afghan Hound1-1.jpeg\n",
      "took 4.84098219872 seconds\n",
      "on image: /media/nate/Windows/github/IDmyDog/scrape_ims/images/Afghan Hound/Afghan Hound1-4.jpeg\n",
      "took 4.84136295319 seconds\n",
      "on image: /media/nate/Windows/github/IDmyDog/scrape_ims/images/Afghan Hound/Afghan Hound3-0.jpeg\n",
      "took 4.83551907539 seconds\n",
      "on image: /media/nate/Windows/github/IDmyDog/scrape_ims/images/Afghan Hound/Afghan Hound4-5.jpeg\n",
      "took 4.84061384201 seconds\n"
     ]
    }
   ],
   "source": [
    "files, all_feats = fe.extract10()"
   ]
  },
  {
   "cell_type": "code",
   "execution_count": 118,
   "metadata": {
    "collapsed": false
   },
   "outputs": [
    {
     "data": {
      "text/plain": [
       "10"
      ]
     },
     "execution_count": 118,
     "metadata": {},
     "output_type": "execute_result"
    }
   ],
   "source": [
    "len(files)"
   ]
  },
  {
   "cell_type": "code",
   "execution_count": 119,
   "metadata": {
    "collapsed": false
   },
   "outputs": [
    {
     "data": {
      "text/plain": [
       "0.20552104"
      ]
     },
     "execution_count": 119,
     "metadata": {},
     "output_type": "execute_result"
    }
   ],
   "source": [
    "sys.getsizeof(all_feats)/1000000000."
   ]
  },
  {
   "cell_type": "code",
   "execution_count": 120,
   "metadata": {
    "collapsed": false
   },
   "outputs": [
    {
     "data": {
      "text/plain": [
       "[u'/media/nate/Windows/github/IDmyDog/scrape_ims/images/Affenpinscher/Affenpinscher1-4.',\n",
       " u'/media/nate/Windows/github/IDmyDog/scrape_ims/images/Affenpinscher/Affenpinscher1-7.jpeg',\n",
       " u'/media/nate/Windows/github/IDmyDog/scrape_ims/images/Affenpinscher/Affenpinscher3-3.jpeg',\n",
       " u'/media/nate/Windows/github/IDmyDog/scrape_ims/images/Affenpinscher/Affenpinscher3-7.jpeg',\n",
       " u'/media/nate/Windows/github/IDmyDog/scrape_ims/images/Afghan Hound/6bd6b966cc82eb0a9b97ca39bb04d679c95370ec.jpg',\n",
       " u'/media/nate/Windows/github/IDmyDog/scrape_ims/images/Afghan Hound/Afghan Hound1-0.jpeg',\n",
       " u'/media/nate/Windows/github/IDmyDog/scrape_ims/images/Afghan Hound/Afghan Hound1-1.jpeg',\n",
       " u'/media/nate/Windows/github/IDmyDog/scrape_ims/images/Afghan Hound/Afghan Hound1-4.jpeg',\n",
       " u'/media/nate/Windows/github/IDmyDog/scrape_ims/images/Afghan Hound/Afghan Hound3-0.jpeg',\n",
       " u'/media/nate/Windows/github/IDmyDog/scrape_ims/images/Afghan Hound/Afghan Hound4-5.jpeg']"
      ]
     },
     "execution_count": 120,
     "metadata": {},
     "output_type": "execute_result"
    }
   ],
   "source": [
    "files"
   ]
  },
  {
   "cell_type": "code",
   "execution_count": 121,
   "metadata": {
    "collapsed": false
   },
   "outputs": [
    {
     "name": "stdout",
     "output_type": "stream",
     "text": [
      "on image: /media/nate/Windows/github/IDmyDog/scrape_ims/images/Airedale Terrier/4e25aacc9714996aeeadbb7d065d38d2850c478b.jpg\n",
      "took 4.8741710186 seconds\n",
      "on image: /media/nate/Windows/github/IDmyDog/scrape_ims/images/Airedale Terrier/Airedale Terrier1-0.jpeg\n",
      "took 5.166670084 seconds\n",
      "on image: /media/nate/Windows/github/IDmyDog/scrape_ims/images/Airedale Terrier/Airedale Terrier1-2.jpeg\n",
      "took 4.97763895988 seconds\n",
      "on image: /media/nate/Windows/github/IDmyDog/scrape_ims/images/Airedale Terrier/Airedale Terrier1-4.jpeg\n",
      "took 4.91325712204 seconds\n",
      "on image: /media/nate/Windows/github/IDmyDog/scrape_ims/images/Airedale Terrier/Airedale Terrier1-5.jpeg\n",
      "took 4.97001695633 seconds\n",
      "on image: /media/nate/Windows/github/IDmyDog/scrape_ims/images/Airedale Terrier/Airedale Terrier3-8.jpeg\n",
      "took 5.00331783295 seconds\n",
      "on image: /media/nate/Windows/github/IDmyDog/scrape_ims/images/Akita/9f806755bff025e79bf259c001bf4cde294f71fb.jpg\n",
      "took 4.9402718544 seconds\n",
      "on image: /media/nate/Windows/github/IDmyDog/scrape_ims/images/Akita/Akita1-0.jpeg\n",
      "took 4.92534899712 seconds\n",
      "on image: /media/nate/Windows/github/IDmyDog/scrape_ims/images/Akita/Akita1-2.jpeg\n",
      "took 4.93043780327 seconds\n",
      "on image: /media/nate/Windows/github/IDmyDog/scrape_ims/images/Akita/Akita1-5.png\n",
      "took 4.82327604294 seconds\n"
     ]
    }
   ],
   "source": [
    "files2, all_feats2 = fe.extract10()"
   ]
  },
  {
   "cell_type": "code",
   "execution_count": 122,
   "metadata": {
    "collapsed": false
   },
   "outputs": [
    {
     "data": {
      "text/plain": [
       "205521040"
      ]
     },
     "execution_count": 122,
     "metadata": {},
     "output_type": "execute_result"
    }
   ],
   "source": [
    "sys.getsizeof(all_feats2)"
   ]
  },
  {
   "cell_type": "code",
   "execution_count": null,
   "metadata": {
    "collapsed": true
   },
   "outputs": [],
   "source": [
    "files3, all_feats3 = fe.extract10()"
   ]
  }
 ],
 "metadata": {
  "kernelspec": {
   "display_name": "Python 2",
   "language": "python",
   "name": "python2"
  },
  "language_info": {
   "codemirror_mode": {
    "name": "ipython",
    "version": 2
   },
   "file_extension": ".py",
   "mimetype": "text/x-python",
   "name": "python",
   "nbconvert_exporter": "python",
   "pygments_lexer": "ipython2",
   "version": "2.7.12"
  }
 },
 "nbformat": 4,
 "nbformat_minor": 1
}
